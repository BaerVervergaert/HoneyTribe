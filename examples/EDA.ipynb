{
 "cells": [
  {
   "cell_type": "markdown",
   "id": "f9790b4f-86eb-46ee-8e54-5ce7fc56a443",
   "metadata": {},
   "source": [
    "# EDA example notebook"
   ]
  },
  {
   "cell_type": "markdown",
   "id": "1137efd6-e620-4b86-a630-847cd50b91b1",
   "metadata": {},
   "source": [
    "## Data preparation"
   ]
  },
  {
   "cell_type": "code",
   "execution_count": null,
   "id": "a5685db8-2eda-45f9-8272-477aa0a246d8",
   "metadata": {},
   "outputs": [],
   "source": [
    "import pandas as pd"
   ]
  },
  {
   "cell_type": "code",
   "execution_count": null,
   "id": "0556862b-3cea-4124-9044-4a439fe507ef",
   "metadata": {},
   "outputs": [],
   "source": [
    "N = 20\n",
    "assert N%2 == 0, \"Expected even number for data generation\"\n",
    "df = pd.DataFrame({\n",
    "    'x': range(N),\n",
    "    'y': list(range(N,N + N//2)) + list(range(N + N//2,N,-1)),\n",
    "    'z': range(3*N, 2*N, -1),\n",
    "})\n",
    "df"
   ]
  },
  {
   "cell_type": "markdown",
   "id": "b6397926-d8cd-4797-b426-038852e824dc",
   "metadata": {},
   "source": [
    "## PDF rendering with defaults"
   ]
  },
  {
   "cell_type": "code",
   "execution_count": null,
   "id": "7201ac75-df72-47c1-9697-11bd4eaa2629",
   "metadata": {},
   "outputs": [],
   "source": [
    "import os\n",
    "from pathlib import Path\n",
    "\n",
    "from honeytribe.eda.reporting import EDAReport\n",
    "from honeytribe.eda.summary import EDACentralitySummary, EDACorrelationSummary, EDAVariabilitySummary, EDAAutoCorrelationSummary"
   ]
  },
  {
   "cell_type": "code",
   "execution_count": null,
   "id": "508acd1b-98cc-43bf-8a00-5b8e3c839390",
   "metadata": {},
   "outputs": [],
   "source": [
    "summaries = [\n",
    "    EDACentralitySummary(df),\n",
    "    EDAVariabilitySummary(df),\n",
    "    EDACorrelationSummary(df),\n",
    "    EDAAutoCorrelationSummary(df, lags=2),\n",
    "]\n",
    "report = EDAReport(summaries)\n",
    "report.add_summaries()\n",
    "\n",
    "output_dir = Path('outputs')\n",
    "file_name = \"EDA_report.pdf\"\n",
    "os.makedirs(output_dir, exist_ok=True)\n",
    "report.render_pdf(output_dir/file_name)"
   ]
  }
 ],
 "metadata": {
  "kernelspec": {
   "display_name": "Python (honeytribe)",
   "language": "python",
   "name": "honeytribe"
  },
  "language_info": {
   "codemirror_mode": {
    "name": "ipython",
    "version": 3
   },
   "file_extension": ".py",
   "mimetype": "text/x-python",
   "name": "python",
   "nbconvert_exporter": "python",
   "pygments_lexer": "ipython3",
   "version": "3.11.6"
  }
 },
 "nbformat": 4,
 "nbformat_minor": 5
}
